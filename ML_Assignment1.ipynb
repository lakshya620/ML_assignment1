{
  "nbformat": 4,
  "nbformat_minor": 0,
  "metadata": {
    "colab": {
      "name": "ML_Assignment1.ipynb",
      "provenance": [],
      "collapsed_sections": [],
      "include_colab_link": true
    },
    "kernelspec": {
      "name": "python3",
      "display_name": "Python 3"
    }
  },
  "cells": [
    {
      "cell_type": "markdown",
      "metadata": {
        "id": "view-in-github",
        "colab_type": "text"
      },
      "source": [
        "<a href=\"https://colab.research.google.com/github/lakshya620/ML_assignment1/blob/main/ML_Assignment1.ipynb\" target=\"_parent\"><img src=\"https://colab.research.google.com/assets/colab-badge.svg\" alt=\"Open In Colab\"/></a>"
      ]
    },
    {
      "cell_type": "code",
      "metadata": {
        "id": "xQwcFIDQO6_h"
      },
      "source": [
        "import pandas as pd\n",
        "import numpy as np\n",
        "import matplotlib.pyplot as plt\n",
        "import math"
      ],
      "execution_count": null,
      "outputs": []
    },
    {
      "cell_type": "markdown",
      "metadata": {
        "id": "-SUwDHR7LJqO"
      },
      "source": [
        "# **Binary Classification** \n",
        "\n",
        "---\n",
        "\n",
        "\n"
      ]
    },
    {
      "cell_type": "markdown",
      "metadata": {
        "id": "F-i_T1voMHit"
      },
      "source": [
        "## Data Loading"
      ]
    },
    {
      "cell_type": "code",
      "metadata": {
        "id": "UDAW8tEDMNFz"
      },
      "source": [
        "url = 'https://raw.githubusercontent.com/lakshya620/ML_assignment1/main/health_data.csv'\n",
        "df1 = pd.read_csv(url)\n",
        "# Dataset is now stored in a Pandas Dataframe"
      ],
      "execution_count": null,
      "outputs": []
    },
    {
      "cell_type": "code",
      "metadata": {
        "colab": {
          "base_uri": "https://localhost:8080/",
          "height": 201
        },
        "id": "6GvkzGHJSZ-w",
        "outputId": "fed45c2a-2166-4a4a-a75c-662bad7ff584"
      },
      "source": [
        "df1.head()"
      ],
      "execution_count": null,
      "outputs": [
        {
          "output_type": "execute_result",
          "data": {
            "text/html": [
              "<div>\n",
              "<style scoped>\n",
              "    .dataframe tbody tr th:only-of-type {\n",
              "        vertical-align: middle;\n",
              "    }\n",
              "\n",
              "    .dataframe tbody tr th {\n",
              "        vertical-align: top;\n",
              "    }\n",
              "\n",
              "    .dataframe thead th {\n",
              "        text-align: right;\n",
              "    }\n",
              "</style>\n",
              "<table border=\"1\" class=\"dataframe\">\n",
              "  <thead>\n",
              "    <tr style=\"text-align: right;\">\n",
              "      <th></th>\n",
              "      <th>age</th>\n",
              "      <th>restbps</th>\n",
              "      <th>chol</th>\n",
              "      <th>category</th>\n",
              "    </tr>\n",
              "  </thead>\n",
              "  <tbody>\n",
              "    <tr>\n",
              "      <th>0</th>\n",
              "      <td>26</td>\n",
              "      <td>109</td>\n",
              "      <td>243</td>\n",
              "      <td>0</td>\n",
              "    </tr>\n",
              "    <tr>\n",
              "      <th>1</th>\n",
              "      <td>27</td>\n",
              "      <td>106</td>\n",
              "      <td>156</td>\n",
              "      <td>0</td>\n",
              "    </tr>\n",
              "    <tr>\n",
              "      <th>2</th>\n",
              "      <td>28</td>\n",
              "      <td>107</td>\n",
              "      <td>225</td>\n",
              "      <td>0</td>\n",
              "    </tr>\n",
              "    <tr>\n",
              "      <th>3</th>\n",
              "      <td>27</td>\n",
              "      <td>105</td>\n",
              "      <td>277</td>\n",
              "      <td>0</td>\n",
              "    </tr>\n",
              "    <tr>\n",
              "      <th>4</th>\n",
              "      <td>30</td>\n",
              "      <td>96</td>\n",
              "      <td>221</td>\n",
              "      <td>0</td>\n",
              "    </tr>\n",
              "  </tbody>\n",
              "</table>\n",
              "</div>"
            ],
            "text/plain": [
              "   age  restbps  chol  category\n",
              "0   26      109   243         0\n",
              "1   27      106   156         0\n",
              "2   28      107   225         0\n",
              "3   27      105   277         0\n",
              "4   30       96   221         0"
            ]
          },
          "metadata": {
            "tags": []
          },
          "execution_count": 3
        }
      ]
    },
    {
      "cell_type": "code",
      "metadata": {
        "colab": {
          "base_uri": "https://localhost:8080/",
          "height": 292
        },
        "id": "U_IP_ysDUsdc",
        "outputId": "f8582017-c35e-4260-f25a-ab1119de3ce7"
      },
      "source": [
        "df1.describe()"
      ],
      "execution_count": null,
      "outputs": [
        {
          "output_type": "execute_result",
          "data": {
            "text/html": [
              "<div>\n",
              "<style scoped>\n",
              "    .dataframe tbody tr th:only-of-type {\n",
              "        vertical-align: middle;\n",
              "    }\n",
              "\n",
              "    .dataframe tbody tr th {\n",
              "        vertical-align: top;\n",
              "    }\n",
              "\n",
              "    .dataframe thead th {\n",
              "        text-align: right;\n",
              "    }\n",
              "</style>\n",
              "<table border=\"1\" class=\"dataframe\">\n",
              "  <thead>\n",
              "    <tr style=\"text-align: right;\">\n",
              "      <th></th>\n",
              "      <th>age</th>\n",
              "      <th>restbps</th>\n",
              "      <th>chol</th>\n",
              "      <th>category</th>\n",
              "    </tr>\n",
              "  </thead>\n",
              "  <tbody>\n",
              "    <tr>\n",
              "      <th>count</th>\n",
              "      <td>700.000000</td>\n",
              "      <td>700.000000</td>\n",
              "      <td>700.000000</td>\n",
              "      <td>700.000000</td>\n",
              "    </tr>\n",
              "    <tr>\n",
              "      <th>mean</th>\n",
              "      <td>41.777143</td>\n",
              "      <td>125.434286</td>\n",
              "      <td>256.252857</td>\n",
              "      <td>0.428571</td>\n",
              "    </tr>\n",
              "    <tr>\n",
              "      <th>std</th>\n",
              "      <td>14.571477</td>\n",
              "      <td>18.302340</td>\n",
              "      <td>55.129140</td>\n",
              "      <td>0.495226</td>\n",
              "    </tr>\n",
              "    <tr>\n",
              "      <th>min</th>\n",
              "      <td>15.000000</td>\n",
              "      <td>92.000000</td>\n",
              "      <td>143.000000</td>\n",
              "      <td>0.000000</td>\n",
              "    </tr>\n",
              "    <tr>\n",
              "      <th>25%</th>\n",
              "      <td>28.000000</td>\n",
              "      <td>109.000000</td>\n",
              "      <td>219.000000</td>\n",
              "      <td>0.000000</td>\n",
              "    </tr>\n",
              "    <tr>\n",
              "      <th>50%</th>\n",
              "      <td>42.000000</td>\n",
              "      <td>125.000000</td>\n",
              "      <td>243.000000</td>\n",
              "      <td>0.000000</td>\n",
              "    </tr>\n",
              "    <tr>\n",
              "      <th>75%</th>\n",
              "      <td>53.000000</td>\n",
              "      <td>140.000000</td>\n",
              "      <td>287.000000</td>\n",
              "      <td>1.000000</td>\n",
              "    </tr>\n",
              "    <tr>\n",
              "      <th>max</th>\n",
              "      <td>78.000000</td>\n",
              "      <td>173.000000</td>\n",
              "      <td>433.000000</td>\n",
              "      <td>1.000000</td>\n",
              "    </tr>\n",
              "  </tbody>\n",
              "</table>\n",
              "</div>"
            ],
            "text/plain": [
              "              age     restbps        chol    category\n",
              "count  700.000000  700.000000  700.000000  700.000000\n",
              "mean    41.777143  125.434286  256.252857    0.428571\n",
              "std     14.571477   18.302340   55.129140    0.495226\n",
              "min     15.000000   92.000000  143.000000    0.000000\n",
              "25%     28.000000  109.000000  219.000000    0.000000\n",
              "50%     42.000000  125.000000  243.000000    0.000000\n",
              "75%     53.000000  140.000000  287.000000    1.000000\n",
              "max     78.000000  173.000000  433.000000    1.000000"
            ]
          },
          "metadata": {
            "tags": []
          },
          "execution_count": 4
        }
      ]
    },
    {
      "cell_type": "markdown",
      "metadata": {
        "id": "bhsPfyDRSkfG"
      },
      "source": [
        "We have 3 dimensional feature vector \n",
        "Now we will stack up all feature vectors \n",
        "in X"
      ]
    },
    {
      "cell_type": "markdown",
      "metadata": {
        "id": "gQuBALBeWtmS"
      },
      "source": [
        "Input and Output Data\n",
        ">$X =\n",
        " \\begin{pmatrix}\n",
        "  x_{1}^T  \\\\\n",
        "  x_{2}^T \\\\\n",
        "  \\vdots  \\\\\n",
        "  x_{m}^T\n",
        " \\end{pmatrix}$\n",
        " >where the feature vector is \n",
        " >$x_{i} =\n",
        " \\begin{pmatrix}\n",
        "  age_{i}  \\\\\n",
        "  restbps_{i} \\\\\n",
        "  chol_{i}\n",
        " \\end{pmatrix}$ \n",
        " where $m$ =no of data points=$700$ and\n",
        " >$Y =\n",
        " \\begin{pmatrix}\n",
        "  y_{1}  \\\\\n",
        "  y_{2} \\\\\n",
        "  \\vdots  \\\\\n",
        "  y_{m}\n",
        " \\end{pmatrix}$ \n"
      ]
    },
    {
      "cell_type": "code",
      "metadata": {
        "id": "BbcNLIAPTxS_",
        "colab": {
          "base_uri": "https://localhost:8080/"
        },
        "outputId": "09e030ee-d8bd-47b5-ceda-0a4216df84ab"
      },
      "source": [
        "D=df1.to_numpy()\n",
        "np.random.shuffle(D)#done for test and train data split\n",
        "m=D.shape[0];\n",
        "n=D[0].shape[0]-1\n",
        "X= D[:,:3]# data vector with  feature/input vectors stacked up on one another \n",
        "Y=D[:,-1]\n",
        "print(X.shape)\n",
        "print(Y.shape)"
      ],
      "execution_count": null,
      "outputs": [
        {
          "output_type": "stream",
          "text": [
            "(700, 3)\n",
            "(700,)\n"
          ],
          "name": "stdout"
        }
      ]
    },
    {
      "cell_type": "markdown",
      "metadata": {
        "id": "lhuEUJBj7DhJ"
      },
      "source": [
        "## Training Data and Test Data Split"
      ]
    },
    {
      "cell_type": "code",
      "metadata": {
        "colab": {
          "base_uri": "https://localhost:8080/"
        },
        "id": "OiIfMwOL7Bxd",
        "outputId": "381e907a-9fc2-40b8-cce5-aea10b63c166"
      },
      "source": [
        "split=int(m*0.7)\n",
        "X_train,X_test=X[:split],X[split:]\n",
        "Y_train,Y_test=Y[:split],Y[split:]\n",
        "print(X_train.shape)\n",
        "print(Y_test.shape)"
      ],
      "execution_count": null,
      "outputs": [
        {
          "output_type": "stream",
          "text": [
            "(489, 3)\n",
            "(211,)\n"
          ],
          "name": "stdout"
        }
      ]
    },
    {
      "cell_type": "markdown",
      "metadata": {
        "id": "zAWi4WD88YQd"
      },
      "source": [
        "### Estimating class priors\n",
        "$p_{0}=Pr(Y=0)=m_{0,train}/m_{train}\\hspace{1cm}  p_{1}=Pr(Y=1)=m_{1,train}/m_{train}\\hspace{0.25cm}$\n",
        "where $ m_{0,train} \\hspace{0.15cm}$is no of training data points having 0 label and m1 as 1"
      ]
    },
    {
      "cell_type": "code",
      "metadata": {
        "colab": {
          "base_uri": "https://localhost:8080/"
        },
        "id": "vjeB24ch8ecJ",
        "outputId": "5e88fc8a-66be-4735-dd24-d6cee7a29e7c"
      },
      "source": [
        "m_train=X_train.shape[0]\n",
        "m1=np.sum(Y_train, axis=0)\n",
        "m0=m_train-m1\n",
        "p0=m0/m_train\n",
        "p1=m1/m_train\n",
        "print(p0,p1)"
      ],
      "execution_count": null,
      "outputs": [
        {
          "output_type": "stream",
          "text": [
            "0.5991820040899796 0.40081799591002043\n"
          ],
          "name": "stdout"
        }
      ]
    },
    {
      "cell_type": "markdown",
      "metadata": {
        "id": "IyGuueflMBnu"
      },
      "source": [
        "## Naive Bayes Classification\n"
      ]
    },
    {
      "cell_type": "markdown",
      "metadata": {
        "id": "JZR2xtDLAJoW"
      },
      "source": [
        "### Estimating class conditional density\n",
        "In naive bayes we make assumption that different features are independent of one another i.e  \n",
        "$f_{i}(x)$(i.e pdf of feature vector x of class i)=$\\prod_{d=0}^{n}f_{i}(x^d\\hspace{0.15cm} |\\hspace{0.15cm} y=i) $ where $x^d$ represents $d^{th}$ dimension of $n$ dimensional vector $x$\n"
      ]
    },
    {
      "cell_type": "code",
      "metadata": {
        "id": "UlPxCQuHdEGW",
        "colab": {
          "base_uri": "https://localhost:8080/",
          "height": 285
        },
        "outputId": "ee96bfb2-fcaf-4a70-b23e-23810cbfc82c"
      },
      "source": [
        "df1['age'].value_counts().plot(kind='bar')"
      ],
      "execution_count": null,
      "outputs": [
        {
          "output_type": "execute_result",
          "data": {
            "text/plain": [
              "<matplotlib.axes._subplots.AxesSubplot at 0x7f34031444a8>"
            ]
          },
          "metadata": {
            "tags": []
          },
          "execution_count": 10
        },
        {
          "output_type": "display_data",
          "data": {
            "image/png": "[encoded data removed]",
            "text/plain": [
              "<Figure size 432x288 with 1 Axes>"
            ]
          },
          "metadata": {
            "tags": [],
            "needs_background": "light"
          }
        }
      ]
    },
    {
      "cell_type": "code",
      "metadata": {
        "id": "ayMjAq5HAIob",
        "colab": {
          "base_uri": "https://localhost:8080/",
          "height": 291
        },
        "outputId": "5a6fb0e5-e871-48a1-edfd-e2c733a0b96c"
      },
      "source": [
        "df1['restbps'].value_counts().plot(kind='bar')"
      ],
      "execution_count": null,
      "outputs": [
        {
          "output_type": "execute_result",
          "data": {
            "text/plain": [
              "<matplotlib.axes._subplots.AxesSubplot at 0x7f3402f49c50>"
            ]
          },
          "metadata": {
            "tags": []
          },
          "execution_count": 11
        },
        {
          "output_type": "display_data",
          "data": {
            "image/png": "[encoded data removed]",
            "text/plain": [
              "<Figure size 432x288 with 1 Axes>"
            ]
          },
          "metadata": {
            "tags": [],
            "needs_background": "light"
          }
        }
      ]
    },
    {
      "cell_type": "code",
      "metadata": {
        "id": "GI1ii-4XTwW2",
        "colab": {
          "base_uri": "https://localhost:8080/",
          "height": 291
        },
        "outputId": "baacfc0b-75fb-4822-e566-c51801a6ac14"
      },
      "source": [
        "df1['chol'].value_counts().plot(kind='bar')"
      ],
      "execution_count": null,
      "outputs": [
        {
          "output_type": "execute_result",
          "data": {
            "text/plain": [
              "<matplotlib.axes._subplots.AxesSubplot at 0x7f340291aac8>"
            ]
          },
          "metadata": {
            "tags": []
          },
          "execution_count": 12
        },
        {
          "output_type": "display_data",
          "data": {
            "image/png": "[encoded data removed]",
            "text/plain": [
              "<Figure size 432x288 with 1 Axes>"
            ]
          },
          "metadata": {
            "tags": [],
            "needs_background": "light"
          }
        }
      ]
    },
    {
      "cell_type": "markdown",
      "metadata": {
        "id": "tFkgdwyXPBcr"
      },
      "source": [
        "Now since $d^{th}$ dimension $x^d \\in \\mathbb{R}$ looks like an exponential distribution we will assume exponential distribution from  training data i.e. $x^d\\sim \\mathcal{exp}(\\lambda_{d})$ with $\\mu_{d}= 1/\\lambda_{d}$ "
      ]
    },
    {
      "cell_type": "code",
      "metadata": {
        "id": "KFGBDtI8LPw8"
      },
      "source": [
        "def classConditional(lambdas,x):\n",
        "  if x<0:\n",
        "    return 0\n",
        "  else:\n",
        "    ans=1\n",
        "    for i in range(len(lambdas)):\n",
        "      ans*=lambdas[i]*np.exp(x[i])\n",
        "    return ans\n",
        "def getLambdas(X_train):\n",
        "  n=X_train.shape[1]\n",
        "  lambdas=[]\n",
        "  for i in range(n):\n",
        "    lambdas.append(1/np.mean(X_train[:,i],axis=0))\n",
        "  return lambdas\n",
        "lambdas=getLambdas(X_train)"
      ],
      "execution_count": null,
      "outputs": []
    },
    {
      "cell_type": "markdown",
      "metadata": {
        "id": "nA15QZFKw9aB"
      },
      "source": [
        "### Prediction on test point"
      ]
    },
    {
      "cell_type": "code",
      "metadata": {
        "id": "_JIxCuLrwYyR"
      },
      "source": [
        "def predict(x):\n",
        "  "
      ],
      "execution_count": null,
      "outputs": []
    },
    {
      "cell_type": "markdown",
      "metadata": {
        "id": "yVrzJRKDNSoF"
      },
      "source": [
        "## Maximum Likelihood Estimation\n",
        "\n",
        "\n"
      ]
    },
    {
      "cell_type": "markdown",
      "metadata": {
        "id": "mcc0e-MMyimf"
      },
      "source": [
        "Although the graphical visualization of data suggests that the data does follow something similar to exponential distribution, for mathematical simplicity we assume that the data is a multivariate gaussian for mathematical simplicity instead of multivariate exponential.\n",
        "\n",
        "For a multivariate gaussian distribution,from the ML estimation the parameters are mean and co-variance matrix and they are:"
      ]
    },
    {
      "cell_type": "code",
      "metadata": {
        "id": "sJ77VG6kANb5"
      },
      "source": [
        "mean_0 = [0,0,0]\n",
        "mean_1 = [0,0,0]\n",
        "count_0 = 0\n",
        "count_1 = 0\n",
        "X_train_0 = [ [ 0 for i in range(3) ] for j in range(m0) ]\n",
        "X_train_1 = [ [ 0 for i in range(3) ] for j in range(m1) ]\n",
        "for i in range(len(X_train)):\n",
        "  if Y_train[i] == 0:\n",
        "    mean_0 += X_train[i]\n",
        "    X_train_0[count_0] = X_train[i]\n",
        "    count_0 +=1\n",
        "  elif Y_train[i] == 1:\n",
        "    mean_1 += X_train[i]\n",
        "    X_train_1[count_1] = X_train[i]\n",
        "    count_1 +=1\n",
        "  \n",
        "mean_0 = mean_0 / count_0\n",
        "mean_1 = mean_1 / count_1\n",
        "\n",
        "cov_0 = np.cov(np.transpose(X_train_0))\n",
        "cov_1 = np.cov(np.transpose(X_train_1))\n"
      ],
      "execution_count": null,
      "outputs": []
    },
    {
      "cell_type": "markdown",
      "metadata": {
        "id": "p8c1dB03YwDz"
      },
      "source": [
        "Train accracy:"
      ]
    },
    {
      "cell_type": "code",
      "metadata": {
        "colab": {
          "base_uri": "https://localhost:8080/",
          "height": 343
        },
        "id": "uls1JRD4YuU1",
        "outputId": "2a642928-8d08-4350-fe4e-9c491e97740e"
      },
      "source": [
        "def calculate_probability(x, mean, cov):\n",
        "  A = x-mean\n",
        "  At = np.transpose(A)\n",
        "  cov_inv = np.linalg.inv(cov)\n",
        "  pro = \n",
        "  exponent = math.exp(-1/2 * A * cov_inv * At)\n",
        "  return (1/(math.sqrt(8*(math.pi)**3*np.linalg.det(cov)))) * exponent\n",
        "\n",
        "\n",
        "correct_estimates = 0\n",
        "for i in range(len(X_train)):\n",
        "  q_1 = p1*calculate_probability(X_train[i],mean_1,cov_1)\n",
        "  q_0 = p0*calculate_probability(X_train[i],mean_0,cov_0)\n",
        "  if q_1 > q_0:\n",
        "    if Y_train[i] == 1:\n",
        "      correct_estimates+=1\n",
        "  elif q_0 > q_1:\n",
        "    if Y_train[i] == 0:\n",
        "      correct_estimates+=1\n",
        "\n",
        "accuracy = correct_estimates / m_train\n"
      ],
      "execution_count": null,
      "outputs": [
        {
          "output_type": "error",
          "ename": "TypeError",
          "evalue": "ignored",
          "traceback": [
            "\u001b[0;31m---------------------------------------------------------------------------\u001b[0m",
            "\u001b[0;31mTypeError\u001b[0m                                 Traceback (most recent call last)",
            "\u001b[0;32m<ipython-input-67-b390bad422a0>\u001b[0m in \u001b[0;36m<module>\u001b[0;34m()\u001b[0m\n\u001b[1;32m      9\u001b[0m \u001b[0mcorrect_estimates\u001b[0m \u001b[0;34m=\u001b[0m \u001b[0;36m0\u001b[0m\u001b[0;34m\u001b[0m\u001b[0;34m\u001b[0m\u001b[0m\n\u001b[1;32m     10\u001b[0m \u001b[0;32mfor\u001b[0m \u001b[0mi\u001b[0m \u001b[0;32min\u001b[0m \u001b[0mrange\u001b[0m\u001b[0;34m(\u001b[0m\u001b[0mlen\u001b[0m\u001b[0;34m(\u001b[0m\u001b[0mX_train\u001b[0m\u001b[0;34m)\u001b[0m\u001b[0;34m)\u001b[0m\u001b[0;34m:\u001b[0m\u001b[0;34m\u001b[0m\u001b[0;34m\u001b[0m\u001b[0m\n\u001b[0;32m---> 11\u001b[0;31m   \u001b[0mq_1\u001b[0m \u001b[0;34m=\u001b[0m \u001b[0mp1\u001b[0m\u001b[0;34m*\u001b[0m\u001b[0mcalculate_probability\u001b[0m\u001b[0;34m(\u001b[0m\u001b[0mX_train\u001b[0m\u001b[0;34m[\u001b[0m\u001b[0mi\u001b[0m\u001b[0;34m]\u001b[0m\u001b[0;34m,\u001b[0m\u001b[0mmean_1\u001b[0m\u001b[0;34m,\u001b[0m\u001b[0mcov_1\u001b[0m\u001b[0;34m)\u001b[0m\u001b[0;34m\u001b[0m\u001b[0;34m\u001b[0m\u001b[0m\n\u001b[0m\u001b[1;32m     12\u001b[0m   \u001b[0mq_0\u001b[0m \u001b[0;34m=\u001b[0m \u001b[0mp0\u001b[0m\u001b[0;34m*\u001b[0m\u001b[0mcalculate_probability\u001b[0m\u001b[0;34m(\u001b[0m\u001b[0mX_train\u001b[0m\u001b[0;34m[\u001b[0m\u001b[0mi\u001b[0m\u001b[0;34m]\u001b[0m\u001b[0;34m,\u001b[0m\u001b[0mmean_0\u001b[0m\u001b[0;34m,\u001b[0m\u001b[0mcov_0\u001b[0m\u001b[0;34m)\u001b[0m\u001b[0;34m\u001b[0m\u001b[0;34m\u001b[0m\u001b[0m\n\u001b[1;32m     13\u001b[0m   \u001b[0;32mif\u001b[0m \u001b[0mq_1\u001b[0m \u001b[0;34m>\u001b[0m \u001b[0mq_0\u001b[0m\u001b[0;34m:\u001b[0m\u001b[0;34m\u001b[0m\u001b[0;34m\u001b[0m\u001b[0m\n",
            "\u001b[0;32m<ipython-input-67-b390bad422a0>\u001b[0m in \u001b[0;36mcalculate_probability\u001b[0;34m(x, mean, cov)\u001b[0m\n\u001b[1;32m      3\u001b[0m   \u001b[0mAt\u001b[0m \u001b[0;34m=\u001b[0m \u001b[0mnp\u001b[0m\u001b[0;34m.\u001b[0m\u001b[0mtranspose\u001b[0m\u001b[0;34m(\u001b[0m\u001b[0mA\u001b[0m\u001b[0;34m)\u001b[0m\u001b[0;34m\u001b[0m\u001b[0;34m\u001b[0m\u001b[0m\n\u001b[1;32m      4\u001b[0m   \u001b[0mcov_inv\u001b[0m \u001b[0;34m=\u001b[0m \u001b[0mnp\u001b[0m\u001b[0;34m.\u001b[0m\u001b[0mlinalg\u001b[0m\u001b[0;34m.\u001b[0m\u001b[0minv\u001b[0m\u001b[0;34m(\u001b[0m\u001b[0mcov\u001b[0m\u001b[0;34m)\u001b[0m\u001b[0;34m\u001b[0m\u001b[0;34m\u001b[0m\u001b[0m\n\u001b[0;32m----> 5\u001b[0;31m   \u001b[0mexponent\u001b[0m \u001b[0;34m=\u001b[0m \u001b[0mmath\u001b[0m\u001b[0;34m.\u001b[0m\u001b[0mexp\u001b[0m\u001b[0;34m(\u001b[0m\u001b[0;34m-\u001b[0m\u001b[0;36m1\u001b[0m\u001b[0;34m/\u001b[0m\u001b[0;36m2\u001b[0m \u001b[0;34m*\u001b[0m \u001b[0mA\u001b[0m \u001b[0;34m*\u001b[0m \u001b[0mcov_inv\u001b[0m \u001b[0;34m*\u001b[0m \u001b[0mAt\u001b[0m\u001b[0;34m)\u001b[0m\u001b[0;34m\u001b[0m\u001b[0;34m\u001b[0m\u001b[0m\n\u001b[0m\u001b[1;32m      6\u001b[0m   \u001b[0;32mreturn\u001b[0m \u001b[0;34m(\u001b[0m\u001b[0;36m1\u001b[0m\u001b[0;34m/\u001b[0m\u001b[0;34m(\u001b[0m\u001b[0mmath\u001b[0m\u001b[0;34m.\u001b[0m\u001b[0msqrt\u001b[0m\u001b[0;34m(\u001b[0m\u001b[0;36m8\u001b[0m\u001b[0;34m*\u001b[0m\u001b[0;34m(\u001b[0m\u001b[0mmath\u001b[0m\u001b[0;34m.\u001b[0m\u001b[0mpi\u001b[0m\u001b[0;34m)\u001b[0m\u001b[0;34m**\u001b[0m\u001b[0;36m3\u001b[0m\u001b[0;34m*\u001b[0m\u001b[0mnp\u001b[0m\u001b[0;34m.\u001b[0m\u001b[0mlinalg\u001b[0m\u001b[0;34m.\u001b[0m\u001b[0mdet\u001b[0m\u001b[0;34m(\u001b[0m\u001b[0mcov\u001b[0m\u001b[0;34m)\u001b[0m\u001b[0;34m)\u001b[0m\u001b[0;34m)\u001b[0m\u001b[0;34m)\u001b[0m \u001b[0;34m*\u001b[0m \u001b[0mexponent\u001b[0m\u001b[0;34m\u001b[0m\u001b[0;34m\u001b[0m\u001b[0m\n\u001b[1;32m      7\u001b[0m \u001b[0;34m\u001b[0m\u001b[0m\n",
            "\u001b[0;31mTypeError\u001b[0m: only size-1 arrays can be converted to Python scalars"
          ]
        }
      ]
    },
    {
      "cell_type": "markdown",
      "metadata": {
        "id": "JlKoQ5IPY82f"
      },
      "source": [
        "Test accuracy:"
      ]
    },
    {
      "cell_type": "code",
      "metadata": {
        "id": "BK7-hGaNY_4W"
      },
      "source": [
        ""
      ],
      "execution_count": null,
      "outputs": []
    }
  ]
}